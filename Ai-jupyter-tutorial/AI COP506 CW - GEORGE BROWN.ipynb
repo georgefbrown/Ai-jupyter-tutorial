{
 "cells": [
  {
   "cell_type": "markdown",
   "id": "98a959bc",
   "metadata": {},
   "source": [
    "# 23COP506 -  A tutorial in Artifical Intelligence and Machine Learning"
   ]
  },
  {
   "cell_type": "markdown",
   "id": "bf7e505e",
   "metadata": {},
   "source": [
    "## Before you begin\n",
    "\n",
    "In this tutorial you will learn the foundations into artifical intelligence (AI) and machine learning (ML) in python using popular libraries used in the industry. You'll start by laying a solid foundation, guiding you through the basics of these essential libraries. As you delve deeper, you'll explore a few examples of AI and ML techniques, each accompanied by real-world examples. We'll use well-known datasets to tackle various problems, revealing the incredible power of these techniques. By the end of this tutorial, you'll have a better grasp of AI and ML concepts and be equipped to apply them to practical, real-life scenarios."
   ]
  },
  {
   "cell_type": "markdown",
   "id": "36ca7571",
   "metadata": {},
   "source": [
    "## Objectives:\n",
    "\n",
    "- Introduction to AI and ML\n",
    "- Library familiarization (Numpy, Matplotlib, Scipy)\n",
    "- Linear regression\n",
    "- Classification\n",
    "- Deep learning Classification"
   ]
  },
  {
   "cell_type": "markdown",
   "id": "5a481b4b",
   "metadata": {},
   "source": [
    "## Introduction to Artificial Intelligence and Machine Learning\n",
    "\n",
    "Artificial Intelligence (AI) and Machine Learning (ML) are two of the most exciting and rapidly evolving fields in the world of technology. These disciplines have changed the way we approach problem-solving and decision-making, making it possible for computers to learn from data and perform and solve complex tasks that were once only capable from humans.\n",
    "\n",
    "### What is the difference?\n",
    "\n",
    "AI is a broad field that includes the development of systems that can simulate tasks requiring human intelligence. However, ML is a subset of AI that focuses on training systems to learn from data and improve their performance on specific tasks. AI can use various techniques, including rule-based systems, while ML specifically relies on data-driven learning."
   ]
  },
  {
   "cell_type": "markdown",
   "id": "3359a1ad",
   "metadata": {},
   "source": [
    "### The Power of Python Libraries\n",
    "\n",
    "Python is a programming language that has gained popularity in the AI and ML communities due to its extensive library collection for AI and ML tasks. We will use some of the most widely used Python libraries to delve into AI and ML:"
   ]
  },
  {
   "cell_type": "markdown",
   "id": "a0efa1fb",
   "metadata": {},
   "source": [
    "## Library familiarization \n",
    "\n",
    "### Numpy\n",
    "\n",
    "Numpy is a fundamental python library used for numerical and mathematical operations. It can be used for creating and displaying large multi-dimensional arrays and matrices which mathematical operations can perform on. This is a very important library used in AI and ML."
   ]
  },
  {
   "cell_type": "code",
   "execution_count": 1,
   "id": "7ffc1f01",
   "metadata": {},
   "outputs": [],
   "source": [
    "# First import the library into your python workspace (Make sure this library is installed first).\n",
    "\n",
    "import numpy as np   \n",
    "\n",
    "# 'np' is the name we are giving to numpy so we dont have to keep using 'numpy' when we want to use it"
   ]
  },
  {
   "cell_type": "code",
   "execution_count": 2,
   "id": "cf76120c",
   "metadata": {},
   "outputs": [
    {
     "name": "stdout",
     "output_type": "stream",
     "text": [
      "[1 2 3 4 5]\n"
     ]
    }
   ],
   "source": [
    "# Create a NumPy array from a Python list\n",
    "my_list = [1, 2, 3, 4, 5]\n",
    "my_array = np.array(my_list)\n",
    "\n",
    "print(my_array)"
   ]
  },
  {
   "cell_type": "code",
   "execution_count": 3,
   "id": "66ac9040",
   "metadata": {},
   "outputs": [
    {
     "name": "stdout",
     "output_type": "stream",
     "text": [
      "[5 7 9]\n"
     ]
    }
   ],
   "source": [
    "# Perform element-wise operations on NumPy arrays\n",
    "array1 = np.array([1, 2, 3])\n",
    "array2 = np.array([4, 5, 6])\n",
    "result = array1 + array2\n",
    "print(result)\n"
   ]
  },
  {
   "cell_type": "code",
   "execution_count": 4,
   "id": "df88e4ba",
   "metadata": {},
   "outputs": [
    {
     "name": "stdout",
     "output_type": "stream",
     "text": [
      "[1 2 3 4 5]\n",
      "3.0\n",
      "1.4142135623730951\n",
      "55\n"
     ]
    }
   ],
   "source": [
    "# Mathematical operations\n",
    "array = np.array([1, 2, 3, 4, 5])\n",
    "mean = np.mean(array)  # Calculate the mean\n",
    "std_dev = np.std(array)  # Calculate the standard deviation\n",
    "dot_product = np.dot(array, array)  # Compute the dot product\n",
    "\n",
    "print(array)\n",
    "print(mean)\n",
    "print(std_dev)\n",
    "print(dot_product)"
   ]
  },
  {
   "cell_type": "markdown",
   "id": "bb3c9ce9",
   "metadata": {},
   "source": [
    "### Matplotlib\n",
    "\n",
    "Matplotlib is a versatile library for data visualization. It allows us to create informative charts and graphs to better understand our data."
   ]
  },
  {
   "cell_type": "code",
   "execution_count": 5,
   "id": "ad7a5327",
   "metadata": {},
   "outputs": [],
   "source": [
    "# import matplotlib\n",
    "\n",
    "import matplotlib.pyplot as plt\n",
    "import numpy as np"
   ]
  },
  {
   "cell_type": "code",
   "execution_count": 6,
   "id": "9a5a8b04",
   "metadata": {},
   "outputs": [
    {
     "data": {
      "image/png": "[encoded data removed]",
      "text/plain": [
       "<Figure size 640x480 with 1 Axes>"
      ]
     },
     "metadata": {},
     "output_type": "display_data"
    }
   ],
   "source": [
    "# Create a simple line chart\n",
    "x = np.array([1, 2, 3, 4, 5]) # This creates a numpy array called x\n",
    "y = np.array([2, 7, 11, 18, 20]) # second numpy array called y\n",
    "plt.plot(x, y) # make a chart with the arrays (x and y)\n",
    "plt.xlabel('X-axis') # label the x axis\n",
    "plt.ylabel('Y-axis') # label the y axis\n",
    "plt.title('Simple Line Chart') # give the chart a title\n",
    "plt.show() # display the chart"
   ]
  },
  {
   "cell_type": "markdown",
   "id": "eb5b17cb",
   "metadata": {},
   "source": [
    "### Pandas"
   ]
  },
  {
   "cell_type": "markdown",
   "id": "b26f2d50",
   "metadata": {},
   "source": [
    "Pandas is a popular Python library for data manipulation and analysis. It provides data structures like DataFrames and Series, making it easy to work with structured data such as spreadsheets and databases. Pandas is widely used in AI and ML for tasks like data cleaning, transformation, analysis, and visualization."
   ]
  },
  {
   "cell_type": "code",
   "execution_count": 11,
   "id": "cdc4a5d0",
   "metadata": {},
   "outputs": [
    {
     "name": "stdout",
     "output_type": "stream",
     "text": [
      "      Name  Age\n",
      "0    Alice   25\n",
      "1      Bob   30\n",
      "2  Charlie   35\n"
     ]
    }
   ],
   "source": [
    "import pandas as pd\n",
    "\n",
    "data = {'Name': ['Alice', 'Bob', 'Charlie'],\n",
    "        'Age': [25, 30, 35]}\n",
    "\n",
    "df = pd.DataFrame(data)\n",
    "\n",
    "print(df)\n"
   ]
  },
  {
   "cell_type": "markdown",
   "id": "596ef2b3",
   "metadata": {},
   "source": [
    "## Linear regression\n",
    "\n"
   ]
  },
  {
   "cell_type": "markdown",
   "id": "60135c55",
   "metadata": {},
   "source": [
    "Linear regression is a simple type of machine learning method used to predict unknown data from known data  that has a linear relationship."
   ]
  },
  {
   "cell_type": "markdown",
   "id": "2f18982f",
   "metadata": {},
   "source": [
    "Lets start with an example using a real dataset. Here are the following steps we will take:\n",
    "\n",
    "Step 1: import neccessary libraries\n",
    "\n",
    "Step 2: Load dataset and extract feature(s)\n",
    "\n",
    "Step 3: Split data into training and testing\n",
    "\n",
    "Step 4: Create model\n",
    "\n",
    "Step 5: Train the model\n",
    "\n",
    "Step 6: Test and evaluate model"
   ]
  },
  {
   "cell_type": "markdown",
   "id": "f69ade66",
   "metadata": {},
   "source": [
    "Source:  Note this tutorial takes inpiration from source [1], however, this version provides more description and \n",
    " visualisation using matplotlib to understand what is happening:"
   ]
  },
  {
   "cell_type": "markdown",
   "id": "db9e28ef",
   "metadata": {},
   "source": [
    "### Step 1:"
   ]
  },
  {
   "cell_type": "code",
   "execution_count": 3,
   "id": "f414ca06",
   "metadata": {},
   "outputs": [],
   "source": [
    "# Firstly, lets import the neccessary libraries \n",
    "import matplotlib.pyplot as plt\n",
    "import numpy as np\n",
    "import pandas as pd\n",
    "\n",
    "from sklearn import datasets, linear_model\n",
    "from sklearn.metrics import mean_squared_error, r2_score\n",
    "\n",
    "\n"
   ]
  },
  {
   "cell_type": "markdown",
   "id": "59d6413d",
   "metadata": {},
   "source": [
    " ### Step 2:"
   ]
  },
  {
   "cell_type": "code",
   "execution_count": 8,
   "id": "1542bae5",
   "metadata": {},
   "outputs": [],
   "source": [
    "# Load the diabetes dataset\n",
    "diabetes_X, diabetes_y = datasets.load_diabetes(return_X_y=True)"
   ]
  },
  {
   "cell_type": "markdown",
   "id": "867a6aaa",
   "metadata": {},
   "source": [
    "Lets look at the data by putting it into a pandas dataframe:"
   ]
  },
  {
   "cell_type": "code",
   "execution_count": 9,
   "id": "54fbced6",
   "metadata": {},
   "outputs": [
    {
     "name": "stdout",
     "output_type": "stream",
     "text": [
      "        age       sex       bmi        bp        s1        s2        s3  \\\n",
      "0  0.038076  0.050680  0.061696  0.021872 -0.044223 -0.034821 -0.043401   \n",
      "1 -0.001882 -0.044642 -0.051474 -0.026328 -0.008449 -0.019163  0.074412   \n",
      "2  0.085299  0.050680  0.044451 -0.005670 -0.045599 -0.034194 -0.032356   \n",
      "3 -0.089063 -0.044642 -0.011595 -0.036656  0.012191  0.024991 -0.036038   \n",
      "4  0.005383 -0.044642 -0.036385  0.021872  0.003935  0.015596  0.008142   \n",
      "\n",
      "         s4        s5        s6  target  \n",
      "0 -0.002592  0.019907 -0.017646   151.0  \n",
      "1 -0.039493 -0.068332 -0.092204    75.0  \n",
      "2 -0.002592  0.002861 -0.025930   141.0  \n",
      "3  0.034309  0.022688 -0.009362   206.0  \n",
      "4 -0.002592 -0.031988 -0.046641   135.0  \n"
     ]
    }
   ],
   "source": [
    "# Create a pandas DataFrame for the features and target\n",
    "diabetes_data = pd.DataFrame(data=diabetes_X, columns=datasets.load_diabetes()['feature_names'])\n",
    "diabetes_data['target'] = diabetes_y\n",
    "\n",
    "# Display the first few rows of the DataFrame\n",
    "print(diabetes_data.head())"
   ]
  },
  {
   "cell_type": "code",
   "execution_count": 5,
   "id": "a4ad5d4a",
   "metadata": {},
   "outputs": [],
   "source": [
    "# Use only one feature\n",
    "diabetes_X = diabetes_X[:, np.newaxis, 2] # 3 column"
   ]
  },
  {
   "cell_type": "markdown",
   "id": "cfab0450",
   "metadata": {},
   "source": [
    "In Python, indexing typically starts at 0, so the first column has an index of 0, the second column has an index of 1, the third column has an index of 2, and so on. Therefore the code above selects the third column (index 2) of the diabetes_X array which in this case is the bmi."
   ]
  },
  {
   "cell_type": "markdown",
   "id": "28b15d66",
   "metadata": {},
   "source": [
    "### Step 3:"
   ]
  },
  {
   "cell_type": "code",
   "execution_count": 11,
   "id": "f40cd007",
   "metadata": {},
   "outputs": [],
   "source": [
    "# Split the data into training/testing sets\n",
    "diabetes_X_train = diabetes_X[:-20]\n",
    "diabetes_X_test = diabetes_X[-20:]\n",
    "\n",
    "# Split the targets into training/testing sets\n",
    "diabetes_y_train = diabetes_y[:-20]\n",
    "diabetes_y_test = diabetes_y[-20:]"
   ]
  },
  {
   "cell_type": "markdown",
   "id": "e153c48d",
   "metadata": {},
   "source": [
    "Note: We want to split our data into training and test sets. This is because in machine learning, overfitting can happen. This is when our model generalises too well to the data it was trained on which means that when it is given new data which the model hasnt seen before, it performs poorly. Using seperate data to test the model allows us to evaulate the effectiveness of the model and make sure overfitting hasn't happened."
   ]
  },
  {
   "cell_type": "code",
   "execution_count": 12,
   "id": "e8a7a3fc",
   "metadata": {},
   "outputs": [
    {
     "data": {
      "text/plain": [
       "<matplotlib.collections.PathCollection at 0x12a3ec940>"
      ]
     },
     "execution_count": 12,
     "metadata": {},
     "output_type": "execute_result"
    },
    {
     "data": {
      "image/png": "[encoded data removed]",
      "text/plain": [
       "<Figure size 640x480 with 1 Axes>"
      ]
     },
     "metadata": {},
     "output_type": "display_data"
    }
   ],
   "source": [
    "## Before we train the model, lets plot and look at the data \n",
    "plt.scatter(diabetes_X_test, diabetes_y_test, color=\"black\")\n"
   ]
  },
  {
   "cell_type": "markdown",
   "id": "177a60c1",
   "metadata": {},
   "source": [
    "As you can see, there is a definite relationship between both X and Y. As X increases, so does Y. Therefore we can use Linear regression to make a line of best fit in order to make predictions on unseen data."
   ]
  },
  {
   "cell_type": "markdown",
   "id": "b51e5c86",
   "metadata": {},
   "source": [
    "### Step 4:"
   ]
  },
  {
   "cell_type": "code",
   "execution_count": 13,
   "id": "9fc46710",
   "metadata": {},
   "outputs": [],
   "source": [
    "# Create linear regression object\n",
    "regr = linear_model.LinearRegression()"
   ]
  },
  {
   "cell_type": "markdown",
   "id": "3c4558ec",
   "metadata": {},
   "source": [
    "### Step 5"
   ]
  },
  {
   "cell_type": "code",
   "execution_count": 14,
   "id": "ec387c28",
   "metadata": {},
   "outputs": [
    {
     "data": {
      "text/html": [
       "<style>#sk-container-id-1 {color: black;background-color: white;}#sk-container-id-1 pre{padding: 0;}#sk-container-id-1 div.sk-toggleable {background-color: white;}#sk-container-id-1 label.sk-toggleable__label {cursor: pointer;display: block;width: 100%;margin-bottom: 0;padding: 0.3em;box-sizing: border-box;text-align: center;}#sk-container-id-1 label.sk-toggleable__label-arrow:before {content: \"▸\";float: left;margin-right: 0.25em;color: #696969;}#sk-container-id-1 label.sk-toggleable__label-arrow:hover:before {color: black;}#sk-container-id-1 div.sk-estimator:hover label.sk-toggleable__label-arrow:before {color: black;}#sk-container-id-1 div.sk-toggleable__content {max-height: 0;max-width: 0;overflow: hidden;text-align: left;background-color: #f0f8ff;}#sk-container-id-1 div.sk-toggleable__content pre {margin: 0.2em;color: black;border-radius: 0.25em;background-color: #f0f8ff;}#sk-container-id-1 input.sk-toggleable__control:checked~div.sk-toggleable__content {max-height: 200px;max-width: 100%;overflow: auto;}#sk-container-id-1 input.sk-toggleable__control:checked~label.sk-toggleable__label-arrow:before {content: \"▾\";}#sk-container-id-1 div.sk-estimator input.sk-toggleable__control:checked~label.sk-toggleable__label {background-color: #d4ebff;}#sk-container-id-1 div.sk-label input.sk-toggleable__control:checked~label.sk-toggleable__label {background-color: #d4ebff;}#sk-container-id-1 input.sk-hidden--visually {border: 0;clip: rect(1px 1px 1px 1px);clip: rect(1px, 1px, 1px, 1px);height: 1px;margin: -1px;overflow: hidden;padding: 0;position: absolute;width: 1px;}#sk-container-id-1 div.sk-estimator {font-family: monospace;background-color: #f0f8ff;border: 1px dotted black;border-radius: 0.25em;box-sizing: border-box;margin-bottom: 0.5em;}#sk-container-id-1 div.sk-estimator:hover {background-color: #d4ebff;}#sk-container-id-1 div.sk-parallel-item::after {content: \"\";width: 100%;border-bottom: 1px solid gray;flex-grow: 1;}#sk-container-id-1 div.sk-label:hover label.sk-toggleable__label {background-color: #d4ebff;}#sk-container-id-1 div.sk-serial::before {content: \"\";position: absolute;border-left: 1px solid gray;box-sizing: border-box;top: 0;bottom: 0;left: 50%;z-index: 0;}#sk-container-id-1 div.sk-serial {display: flex;flex-direction: column;align-items: center;background-color: white;padding-right: 0.2em;padding-left: 0.2em;position: relative;}#sk-container-id-1 div.sk-item {position: relative;z-index: 1;}#sk-container-id-1 div.sk-parallel {display: flex;align-items: stretch;justify-content: center;background-color: white;position: relative;}#sk-container-id-1 div.sk-item::before, #sk-container-id-1 div.sk-parallel-item::before {content: \"\";position: absolute;border-left: 1px solid gray;box-sizing: border-box;top: 0;bottom: 0;left: 50%;z-index: -1;}#sk-container-id-1 div.sk-parallel-item {display: flex;flex-direction: column;z-index: 1;position: relative;background-color: white;}#sk-container-id-1 div.sk-parallel-item:first-child::after {align-self: flex-end;width: 50%;}#sk-container-id-1 div.sk-parallel-item:last-child::after {align-self: flex-start;width: 50%;}#sk-container-id-1 div.sk-parallel-item:only-child::after {width: 0;}#sk-container-id-1 div.sk-dashed-wrapped {border: 1px dashed gray;margin: 0 0.4em 0.5em 0.4em;box-sizing: border-box;padding-bottom: 0.4em;background-color: white;}#sk-container-id-1 div.sk-label label {font-family: monospace;font-weight: bold;display: inline-block;line-height: 1.2em;}#sk-container-id-1 div.sk-label-container {text-align: center;}#sk-container-id-1 div.sk-container {/* jupyter's `normalize.less` sets `[hidden] { display: none; }` but bootstrap.min.css set `[hidden] { display: none !important; }` so we also need the `!important` here to be able to override the default hidden behavior on the sphinx rendered scikit-learn.org. See: https://github.com/scikit-learn/scikit-learn/issues/21755 */display: inline-block !important;position: relative;}#sk-container-id-1 div.sk-text-repr-fallback {display: none;}</style><div id=\"sk-container-id-1\" class=\"sk-top-container\"><div class=\"sk-text-repr-fallback\"><pre>LinearRegression()</pre><b>In a Jupyter environment, please rerun this cell to show the HTML representation or trust the notebook. <br />On GitHub, the HTML representation is unable to render, please try loading this page with nbviewer.org.</b></div><div class=\"sk-container\" hidden><div class=\"sk-item\"><div class=\"sk-estimator sk-toggleable\"><input class=\"sk-toggleable__control sk-hidden--visually\" id=\"sk-estimator-id-1\" type=\"checkbox\" checked><label for=\"sk-estimator-id-1\" class=\"sk-toggleable__label sk-toggleable__label-arrow\">LinearRegression</label><div class=\"sk-toggleable__content\"><pre>LinearRegression()</pre></div></div></div></div></div>"
      ],
      "text/plain": [
       "LinearRegression()"
      ]
     },
     "execution_count": 14,
     "metadata": {},
     "output_type": "execute_result"
    }
   ],
   "source": [
    "# Train the model using the training sets\n",
    "regr.fit(diabetes_X_train, diabetes_y_train)"
   ]
  },
  {
   "cell_type": "code",
   "execution_count": 15,
   "id": "a9c78956",
   "metadata": {},
   "outputs": [],
   "source": [
    "# Now we have trained our model using the training data, we can use the testing data to make predictions\n",
    "\n",
    "diabetes_y_pred = regr.predict(diabetes_X_test)"
   ]
  },
  {
   "cell_type": "markdown",
   "id": "38e508ed",
   "metadata": {},
   "source": [
    "We can use certain metrics in linear regression to evaluate how well our model makes predictions.\n",
    "\n",
    "Firstly, we can use mean squared error:\n",
    "\n",
    "This measures the average squared difference between the predicted values and the actual values. Lower MSE indicates a better fit.\n",
    "\n",
    "Secondly, Coefficient of Determination (R-squared):\n",
    "\n",
    "Also known as R-squared or the coefficient of determination, it measures how well the model explains the variance in the target variable. A higher R-squared indicates a better fit. 1 would be a perfect prediction.\n"
   ]
  },
  {
   "cell_type": "markdown",
   "id": "cd273155",
   "metadata": {},
   "source": [
    "### Step 6: "
   ]
  },
  {
   "cell_type": "code",
   "execution_count": 16,
   "id": "4ec06825",
   "metadata": {},
   "outputs": [
    {
     "name": "stdout",
     "output_type": "stream",
     "text": [
      "Mean squared error: 2548.07\n",
      "Coefficient of determination: 0.47\n"
     ]
    }
   ],
   "source": [
    "# The mean squared error\n",
    "print(\"Mean squared error: %.2f\" % mean_squared_error(diabetes_y_test, diabetes_y_pred))\n",
    "# The coefficient of determination: 1 is perfect prediction\n",
    "print(\"Coefficient of determination: %.2f\" % r2_score(diabetes_y_test, diabetes_y_pred))"
   ]
  },
  {
   "cell_type": "markdown",
   "id": "ec779211",
   "metadata": {},
   "source": [
    "Lets plot our line of best fit using the predictions from our model"
   ]
  },
  {
   "cell_type": "code",
   "execution_count": 18,
   "id": "102dcb66",
   "metadata": {},
   "outputs": [
    {
     "data": {
      "image/png": "[encoded data removed]",
      "text/plain": [
       "<Figure size 640x480 with 1 Axes>"
      ]
     },
     "metadata": {},
     "output_type": "display_data"
    }
   ],
   "source": [
    "# Plot outputs\n",
    "plt.scatter(diabetes_X_test, diabetes_y_test, color=\"black\")\n",
    "plt.plot(diabetes_X_test, diabetes_y_pred, color=\"blue\", linewidth=3)\n",
    "\n",
    "plt.xticks(())\n",
    "plt.yticks(())\n",
    "\n",
    "plt.show()\n"
   ]
  },
  {
   "cell_type": "markdown",
   "id": "8418e97f",
   "metadata": {},
   "source": [
    "### In summary:\n",
    "\n",
    "The code performs linear regression on the diabetes dataset using scikit-learn to new predict data from known data with a clear linear relatiosnhip. We started by loading the dataset, selecting a single feature for analysis, and splitting the data into training and testing sets. We then created a linear regression model, trained it on the training data, and makde predictions on the test data.\n",
    "\n",
    "The code prints the model's coefficients, the mean squared error (a measure of prediction accuracy), and the coefficient of determination (R-squared, which indicates how well the model fits the data). Finally, it visualizes the data points and the linear regression line to show how well the model approximates the relationship between the selected feature and the target variable in the diabetes dataset."
   ]
  },
  {
   "cell_type": "markdown",
   "id": "bdf2fe2b",
   "metadata": {},
   "source": [
    "## Classification"
   ]
  },
  {
   "cell_type": "markdown",
   "id": "159ae434",
   "metadata": {},
   "source": [
    "Classification is a machine learning method used to categorize input data into different classes. The goal is for the model to learn different features in the data that are mapped to the different classes given different labels. Therefore, when new unseen data is shown to the model, it can categorize the input correctly. An example of using a classification model to learn the difference between dog and cat images. So if a new image of a cat is given to the model, it can correctly determine that the image is of a cat."
   ]
  },
  {
   "cell_type": "markdown",
   "id": "e41ab9c9",
   "metadata": {},
   "source": [
    "Below shows a basic example of using the Scikit-Learn library to classify images from the Iris dataset using a random forest classifier:\n",
    "\n",
    "Step 1 - Import the necessary libraries\n",
    "\n",
    "Step 2 - Load dataset \n",
    "\n",
    "Step 3 - Analyse our data\n",
    "\n",
    "Step 4 - Split into training and testing sets\n",
    "\n",
    "Step 5 - Create the model\n",
    "\n",
    "Step 6 - Train the model\n",
    "\n",
    "Step 7 - Evaluate accuracy on test set\n",
    "\n",
    "Step 8 - Make new predictions\n",
    " "
   ]
  },
  {
   "cell_type": "markdown",
   "id": "2370ad78",
   "metadata": {},
   "source": [
    "### Note on Scikit-Learn\n",
    "\n",
    " SciKit - Learn is a useful python library typically used for traditional machine learning. It can be used for tasks such as regression, classification, clustering etc.. This is the library we are going to use for our first classifier example."
   ]
  },
  {
   "cell_type": "markdown",
   "id": "a16b2805",
   "metadata": {},
   "source": [
    "### Random forest classifier\n",
    "\n",
    "A Random Forest is a popular machine learning ensemble method used for both classification and regression tasks. It is based on decision tree algorithms and combines multiple decision trees to make more accurate predictions"
   ]
  },
  {
   "cell_type": "markdown",
   "id": "c833eea1",
   "metadata": {},
   "source": [
    "For more information on Sci-kit learns random forest classifier, look at Source [2], Some of the declarations used in this example are from this source."
   ]
  },
  {
   "cell_type": "markdown",
   "id": "a2cd8178",
   "metadata": {},
   "source": [
    "### Step 1\n",
    "\n",
    "Firstly, lets import all the libraries that are going to be used for this model"
   ]
  },
  {
   "cell_type": "code",
   "execution_count": 19,
   "id": "ce2f4d45",
   "metadata": {},
   "outputs": [],
   "source": [
    "# Import necessary libraries and modules from scikit-learn\n",
    "\n",
    "from sklearn.datasets import load_iris  # Import the function to load the Iris dataset\n",
    "from sklearn.ensemble import RandomForestClassifier  # Import the Random Forest classifier\n",
    "from sklearn.model_selection import train_test_split  # Import the train-test split function\n",
    "from sklearn.metrics import accuracy_score  # Import a function to calculate accuracy\n",
    "import pandas as pd"
   ]
  },
  {
   "cell_type": "markdown",
   "id": "fbd23d9c",
   "metadata": {},
   "source": [
    "### Step 2\n",
    "\n",
    "Next, load the dataset into our project"
   ]
  },
  {
   "cell_type": "code",
   "execution_count": 20,
   "id": "f69cf3db",
   "metadata": {},
   "outputs": [],
   "source": [
    "# Load the Iris dataset \n",
    "\n",
    "iris = load_iris() \n",
    "\n",
    "# Access the data\n",
    "data = iris.data"
   ]
  },
  {
   "cell_type": "markdown",
   "id": "19cae973",
   "metadata": {},
   "source": [
    "### Step 3\n",
    "\n",
    "Before we train our model, lets have a look at the data so we know what the model is going to learn"
   ]
  },
  {
   "cell_type": "code",
   "execution_count": 217,
   "id": "296a4bb7",
   "metadata": {},
   "outputs": [
    {
     "name": "stdout",
     "output_type": "stream",
     "text": [
      "Feature Names:\n",
      "['sepal length (cm)', 'sepal width (cm)', 'petal length (cm)', 'petal width (cm)']\n",
      "Target Names:\n",
      "['setosa' 'versicolor' 'virginica']\n",
      "Iris Data:\n",
      "[[5.1 3.5 1.4 0.2]\n",
      " [4.9 3.  1.4 0.2]\n",
      " [4.7 3.2 1.3 0.2]\n",
      " [4.6 3.1 1.5 0.2]\n",
      " [5.  3.6 1.4 0.2]\n",
      " [5.4 3.9 1.7 0.4]\n",
      " [4.6 3.4 1.4 0.3]\n",
      " [5.  3.4 1.5 0.2]\n",
      " [4.4 2.9 1.4 0.2]\n",
      " [4.9 3.1 1.5 0.1]\n",
      " [5.4 3.7 1.5 0.2]\n",
      " [4.8 3.4 1.6 0.2]\n",
      " [4.8 3.  1.4 0.1]\n",
      " [4.3 3.  1.1 0.1]\n",
      " [5.8 4.  1.2 0.2]\n",
      " [5.7 4.4 1.5 0.4]\n",
      " [5.4 3.9 1.3 0.4]\n",
      " [5.1 3.5 1.4 0.3]\n",
      " [5.7 3.8 1.7 0.3]\n",
      " [5.1 3.8 1.5 0.3]\n",
      " [5.4 3.4 1.7 0.2]\n",
      " [5.1 3.7 1.5 0.4]\n",
      " [4.6 3.6 1.  0.2]\n",
      " [5.1 3.3 1.7 0.5]\n",
      " [4.8 3.4 1.9 0.2]\n",
      " [5.  3.  1.6 0.2]\n",
      " [5.  3.4 1.6 0.4]\n",
      " [5.2 3.5 1.5 0.2]\n",
      " [5.2 3.4 1.4 0.2]\n",
      " [4.7 3.2 1.6 0.2]\n",
      " [4.8 3.1 1.6 0.2]\n",
      " [5.4 3.4 1.5 0.4]\n",
      " [5.2 4.1 1.5 0.1]\n",
      " [5.5 4.2 1.4 0.2]\n",
      " [4.9 3.1 1.5 0.2]\n",
      " [5.  3.2 1.2 0.2]\n",
      " [5.5 3.5 1.3 0.2]\n",
      " [4.9 3.6 1.4 0.1]\n",
      " [4.4 3.  1.3 0.2]\n",
      " [5.1 3.4 1.5 0.2]\n",
      " [5.  3.5 1.3 0.3]\n",
      " [4.5 2.3 1.3 0.3]\n",
      " [4.4 3.2 1.3 0.2]\n",
      " [5.  3.5 1.6 0.6]\n",
      " [5.1 3.8 1.9 0.4]\n",
      " [4.8 3.  1.4 0.3]\n",
      " [5.1 3.8 1.6 0.2]\n",
      " [4.6 3.2 1.4 0.2]\n",
      " [5.3 3.7 1.5 0.2]\n",
      " [5.  3.3 1.4 0.2]\n",
      " [7.  3.2 4.7 1.4]\n",
      " [6.4 3.2 4.5 1.5]\n",
      " [6.9 3.1 4.9 1.5]\n",
      " [5.5 2.3 4.  1.3]\n",
      " [6.5 2.8 4.6 1.5]\n",
      " [5.7 2.8 4.5 1.3]\n",
      " [6.3 3.3 4.7 1.6]\n",
      " [4.9 2.4 3.3 1. ]\n",
      " [6.6 2.9 4.6 1.3]\n",
      " [5.2 2.7 3.9 1.4]\n",
      " [5.  2.  3.5 1. ]\n",
      " [5.9 3.  4.2 1.5]\n",
      " [6.  2.2 4.  1. ]\n",
      " [6.1 2.9 4.7 1.4]\n",
      " [5.6 2.9 3.6 1.3]\n",
      " [6.7 3.1 4.4 1.4]\n",
      " [5.6 3.  4.5 1.5]\n",
      " [5.8 2.7 4.1 1. ]\n",
      " [6.2 2.2 4.5 1.5]\n",
      " [5.6 2.5 3.9 1.1]\n",
      " [5.9 3.2 4.8 1.8]\n",
      " [6.1 2.8 4.  1.3]\n",
      " [6.3 2.5 4.9 1.5]\n",
      " [6.1 2.8 4.7 1.2]\n",
      " [6.4 2.9 4.3 1.3]\n",
      " [6.6 3.  4.4 1.4]\n",
      " [6.8 2.8 4.8 1.4]\n",
      " [6.7 3.  5.  1.7]\n",
      " [6.  2.9 4.5 1.5]\n",
      " [5.7 2.6 3.5 1. ]\n",
      " [5.5 2.4 3.8 1.1]\n",
      " [5.5 2.4 3.7 1. ]\n",
      " [5.8 2.7 3.9 1.2]\n",
      " [6.  2.7 5.1 1.6]\n",
      " [5.4 3.  4.5 1.5]\n",
      " [6.  3.4 4.5 1.6]\n",
      " [6.7 3.1 4.7 1.5]\n",
      " [6.3 2.3 4.4 1.3]\n",
      " [5.6 3.  4.1 1.3]\n",
      " [5.5 2.5 4.  1.3]\n",
      " [5.5 2.6 4.4 1.2]\n",
      " [6.1 3.  4.6 1.4]\n",
      " [5.8 2.6 4.  1.2]\n",
      " [5.  2.3 3.3 1. ]\n",
      " [5.6 2.7 4.2 1.3]\n",
      " [5.7 3.  4.2 1.2]\n",
      " [5.7 2.9 4.2 1.3]\n",
      " [6.2 2.9 4.3 1.3]\n",
      " [5.1 2.5 3.  1.1]\n",
      " [5.7 2.8 4.1 1.3]\n",
      " [6.3 3.3 6.  2.5]\n",
      " [5.8 2.7 5.1 1.9]\n",
      " [7.1 3.  5.9 2.1]\n",
      " [6.3 2.9 5.6 1.8]\n",
      " [6.5 3.  5.8 2.2]\n",
      " [7.6 3.  6.6 2.1]\n",
      " [4.9 2.5 4.5 1.7]\n",
      " [7.3 2.9 6.3 1.8]\n",
      " [6.7 2.5 5.8 1.8]\n",
      " [7.2 3.6 6.1 2.5]\n",
      " [6.5 3.2 5.1 2. ]\n",
      " [6.4 2.7 5.3 1.9]\n",
      " [6.8 3.  5.5 2.1]\n",
      " [5.7 2.5 5.  2. ]\n",
      " [5.8 2.8 5.1 2.4]\n",
      " [6.4 3.2 5.3 2.3]\n",
      " [6.5 3.  5.5 1.8]\n",
      " [7.7 3.8 6.7 2.2]\n",
      " [7.7 2.6 6.9 2.3]\n",
      " [6.  2.2 5.  1.5]\n",
      " [6.9 3.2 5.7 2.3]\n",
      " [5.6 2.8 4.9 2. ]\n",
      " [7.7 2.8 6.7 2. ]\n",
      " [6.3 2.7 4.9 1.8]\n",
      " [6.7 3.3 5.7 2.1]\n",
      " [7.2 3.2 6.  1.8]\n",
      " [6.2 2.8 4.8 1.8]\n",
      " [6.1 3.  4.9 1.8]\n",
      " [6.4 2.8 5.6 2.1]\n",
      " [7.2 3.  5.8 1.6]\n",
      " [7.4 2.8 6.1 1.9]\n",
      " [7.9 3.8 6.4 2. ]\n",
      " [6.4 2.8 5.6 2.2]\n",
      " [6.3 2.8 5.1 1.5]\n",
      " [6.1 2.6 5.6 1.4]\n",
      " [7.7 3.  6.1 2.3]\n",
      " [6.3 3.4 5.6 2.4]\n",
      " [6.4 3.1 5.5 1.8]\n",
      " [6.  3.  4.8 1.8]\n",
      " [6.9 3.1 5.4 2.1]\n",
      " [6.7 3.1 5.6 2.4]\n",
      " [6.9 3.1 5.1 2.3]\n",
      " [5.8 2.7 5.1 1.9]\n",
      " [6.8 3.2 5.9 2.3]\n",
      " [6.7 3.3 5.7 2.5]\n",
      " [6.7 3.  5.2 2.3]\n",
      " [6.3 2.5 5.  1.9]\n",
      " [6.5 3.  5.2 2. ]\n",
      " [6.2 3.4 5.4 2.3]\n",
      " [5.9 3.  5.1 1.8]]\n"
     ]
    }
   ],
   "source": [
    "# Access the target variable (the class labels)\n",
    "target = iris.target\n",
    "\n",
    "# Access the feature names \n",
    "feature_names = iris.feature_names\n",
    "\n",
    "# Display the feature names\n",
    "print(\"Feature Names:\")\n",
    "print(feature_names)\n",
    "\n",
    "# Display the target names\n",
    "print(\"Target Names:\")\n",
    "print(target_names)\n",
    "\n",
    "# Display the data\n",
    "print(\"Iris Data:\")\n",
    "print(data)\n",
    "\n"
   ]
  },
  {
   "cell_type": "markdown",
   "id": "14a73a2f",
   "metadata": {},
   "source": [
    "As you can see, there are three classes: 'Setosa', 'Versicolor' and 'Virginica'. The model uses the float values: 'sepal length (cm)', 'sepal width (cm)', 'petal length (cm)', 'petal width (cm)' to determine which class it belongs to. To further analyse the difference between the classes, lets visualise this using matplotlib. Below shows the code for this.\n",
    "\n",
    "Source: Note the code block below is from source [3] "
   ]
  },
  {
   "cell_type": "code",
   "execution_count": 21,
   "id": "4155e65e",
   "metadata": {},
   "outputs": [
    {
     "data": {
      "image/png": "[encoded data removed]",
      "text/plain": [
       "<Figure size 640x480 with 1 Axes>"
      ]
     },
     "metadata": {},
     "output_type": "display_data"
    }
   ],
   "source": [
    "import matplotlib.pyplot as plt\n",
    "\n",
    "_, ax = plt.subplots()\n",
    "scatter = ax.scatter(iris.data[:, 0], iris.data[:, 1], c=iris.target)\n",
    "ax.set(xlabel=iris.feature_names[0], ylabel=iris.feature_names[1])\n",
    "_ = ax.legend(\n",
    "    scatter.legend_elements()[0], iris.target_names, loc=\"lower right\", title=\"Classes\"\n",
    ")"
   ]
  },
  {
   "cell_type": "markdown",
   "id": "c57f35e6",
   "metadata": {},
   "source": [
    "### Step 4\n",
    "\n",
    "As we did previously, we can split our data into training and testing sets."
   ]
  },
  {
   "cell_type": "code",
   "execution_count": 22,
   "id": "1af2e874",
   "metadata": {},
   "outputs": [],
   "source": [
    "# Split the dataset into training and testing sets. 'X_train' and 'X_test' are the feature sets,\n",
    "# 'y_train' and 'y_test' are the corresponding target labels. We use 20% of the data for testing.\n",
    "X_train, X_test, y_train, y_test = train_test_split(iris.data, iris.target, test_size=0.2)"
   ]
  },
  {
   "cell_type": "markdown",
   "id": "29f912df",
   "metadata": {},
   "source": [
    "### Step 5\n",
    "\n",
    "Create the model"
   ]
  },
  {
   "cell_type": "code",
   "execution_count": 23,
   "id": "2157ea16",
   "metadata": {},
   "outputs": [],
   "source": [
    "# Create a Random Forest classifier (an ensemble learning method) and store it in the 'clf' variable\n",
    "clf = RandomForestClassifier()"
   ]
  },
  {
   "cell_type": "markdown",
   "id": "5bd814c1",
   "metadata": {},
   "source": [
    "### Step 6\n",
    "\n",
    "Train the model"
   ]
  },
  {
   "cell_type": "code",
   "execution_count": 222,
   "id": "3b434eee",
   "metadata": {},
   "outputs": [
    {
     "data": {
      "text/html": [
       "<style>#sk-container-id-1 {color: black;background-color: white;}#sk-container-id-1 pre{padding: 0;}#sk-container-id-1 div.sk-toggleable {background-color: white;}#sk-container-id-1 label.sk-toggleable__label {cursor: pointer;display: block;width: 100%;margin-bottom: 0;padding: 0.3em;box-sizing: border-box;text-align: center;}#sk-container-id-1 label.sk-toggleable__label-arrow:before {content: \"▸\";float: left;margin-right: 0.25em;color: #696969;}#sk-container-id-1 label.sk-toggleable__label-arrow:hover:before {color: black;}#sk-container-id-1 div.sk-estimator:hover label.sk-toggleable__label-arrow:before {color: black;}#sk-container-id-1 div.sk-toggleable__content {max-height: 0;max-width: 0;overflow: hidden;text-align: left;background-color: #f0f8ff;}#sk-container-id-1 div.sk-toggleable__content pre {margin: 0.2em;color: black;border-radius: 0.25em;background-color: #f0f8ff;}#sk-container-id-1 input.sk-toggleable__control:checked~div.sk-toggleable__content {max-height: 200px;max-width: 100%;overflow: auto;}#sk-container-id-1 input.sk-toggleable__control:checked~label.sk-toggleable__label-arrow:before {content: \"▾\";}#sk-container-id-1 div.sk-estimator input.sk-toggleable__control:checked~label.sk-toggleable__label {background-color: #d4ebff;}#sk-container-id-1 div.sk-label input.sk-toggleable__control:checked~label.sk-toggleable__label {background-color: #d4ebff;}#sk-container-id-1 input.sk-hidden--visually {border: 0;clip: rect(1px 1px 1px 1px);clip: rect(1px, 1px, 1px, 1px);height: 1px;margin: -1px;overflow: hidden;padding: 0;position: absolute;width: 1px;}#sk-container-id-1 div.sk-estimator {font-family: monospace;background-color: #f0f8ff;border: 1px dotted black;border-radius: 0.25em;box-sizing: border-box;margin-bottom: 0.5em;}#sk-container-id-1 div.sk-estimator:hover {background-color: #d4ebff;}#sk-container-id-1 div.sk-parallel-item::after {content: \"\";width: 100%;border-bottom: 1px solid gray;flex-grow: 1;}#sk-container-id-1 div.sk-label:hover label.sk-toggleable__label {background-color: #d4ebff;}#sk-container-id-1 div.sk-serial::before {content: \"\";position: absolute;border-left: 1px solid gray;box-sizing: border-box;top: 0;bottom: 0;left: 50%;z-index: 0;}#sk-container-id-1 div.sk-serial {display: flex;flex-direction: column;align-items: center;background-color: white;padding-right: 0.2em;padding-left: 0.2em;position: relative;}#sk-container-id-1 div.sk-item {position: relative;z-index: 1;}#sk-container-id-1 div.sk-parallel {display: flex;align-items: stretch;justify-content: center;background-color: white;position: relative;}#sk-container-id-1 div.sk-item::before, #sk-container-id-1 div.sk-parallel-item::before {content: \"\";position: absolute;border-left: 1px solid gray;box-sizing: border-box;top: 0;bottom: 0;left: 50%;z-index: -1;}#sk-container-id-1 div.sk-parallel-item {display: flex;flex-direction: column;z-index: 1;position: relative;background-color: white;}#sk-container-id-1 div.sk-parallel-item:first-child::after {align-self: flex-end;width: 50%;}#sk-container-id-1 div.sk-parallel-item:last-child::after {align-self: flex-start;width: 50%;}#sk-container-id-1 div.sk-parallel-item:only-child::after {width: 0;}#sk-container-id-1 div.sk-dashed-wrapped {border: 1px dashed gray;margin: 0 0.4em 0.5em 0.4em;box-sizing: border-box;padding-bottom: 0.4em;background-color: white;}#sk-container-id-1 div.sk-label label {font-family: monospace;font-weight: bold;display: inline-block;line-height: 1.2em;}#sk-container-id-1 div.sk-label-container {text-align: center;}#sk-container-id-1 div.sk-container {/* jupyter's `normalize.less` sets `[hidden] { display: none; }` but bootstrap.min.css set `[hidden] { display: none !important; }` so we also need the `!important` here to be able to override the default hidden behavior on the sphinx rendered scikit-learn.org. See: https://github.com/scikit-learn/scikit-learn/issues/21755 */display: inline-block !important;position: relative;}#sk-container-id-1 div.sk-text-repr-fallback {display: none;}</style><div id=\"sk-container-id-1\" class=\"sk-top-container\"><div class=\"sk-text-repr-fallback\"><pre>RandomForestClassifier()</pre><b>In a Jupyter environment, please rerun this cell to show the HTML representation or trust the notebook. <br />On GitHub, the HTML representation is unable to render, please try loading this page with nbviewer.org.</b></div><div class=\"sk-container\" hidden><div class=\"sk-item\"><div class=\"sk-estimator sk-toggleable\"><input class=\"sk-toggleable__control sk-hidden--visually\" id=\"sk-estimator-id-1\" type=\"checkbox\" checked><label for=\"sk-estimator-id-1\" class=\"sk-toggleable__label sk-toggleable__label-arrow\">RandomForestClassifier</label><div class=\"sk-toggleable__content\"><pre>RandomForestClassifier()</pre></div></div></div></div></div>"
      ],
      "text/plain": [
       "RandomForestClassifier()"
      ]
     },
     "execution_count": 222,
     "metadata": {},
     "output_type": "execute_result"
    }
   ],
   "source": [
    "clf.fit(X_train, y_train)\n",
    "# Train the classifier using the training data. 'X_train' contains the features, and 'y_train' contains the labels."
   ]
  },
  {
   "cell_type": "markdown",
   "id": "372fc62d",
   "metadata": {},
   "source": [
    "### Step 7\n",
    "\n",
    "Gather the acccuracy of our trained model using the test set"
   ]
  },
  {
   "cell_type": "code",
   "execution_count": 223,
   "id": "f382b8f5",
   "metadata": {},
   "outputs": [
    {
     "name": "stdout",
     "output_type": "stream",
     "text": [
      "Model accuracy: 0.9\n"
     ]
    }
   ],
   "source": [
    "y_pred = clf.predict(X_test)\n",
    "# Use the trained classifier to predict the labels for the test data ('X_test').\n",
    "\n",
    "accuracy = accuracy_score(y_test, y_pred)\n",
    "# Calculate the accuracy of the model's predictions by comparing the predicted labels ('y_pred') to the actual labels ('y_test').\n",
    "\n",
    "\n",
    "print(\"Model accuracy:\", accuracy)\n",
    "# Print the accuracy of the machine learning model's predictions."
   ]
  },
  {
   "cell_type": "markdown",
   "id": "a09fcd20",
   "metadata": {},
   "source": [
    "Overall, the accuracy of 0.9 (90%) isnt particulary great however, as we saw in step 3, there is a definite overlap between verginica and versicolor which makes it challenging for the model to make very accurate predictions."
   ]
  },
  {
   "cell_type": "markdown",
   "id": "a87b13e0",
   "metadata": {},
   "source": [
    "### Step 8\n",
    "\n",
    "Below shows the code for making a new prediction based on some feature values that we give. We can use our trained model to predict what class it should be in."
   ]
  },
  {
   "cell_type": "code",
   "execution_count": 224,
   "id": "9b0e485a",
   "metadata": {},
   "outputs": [
    {
     "name": "stdout",
     "output_type": "stream",
     "text": [
      "The predicted class for the new data point is: versicolor\n"
     ]
    }
   ],
   "source": [
    "# Create a new data point for testing\n",
    "new_data_point = np.array([[4.0, 2.2, 3.0, 1.0]])  # Example feature values for the new data point\n",
    "\n",
    "# Make a prediction for the new data point\n",
    "predicted_class = clf.predict(new_data_point)\n",
    "\n",
    "# Map the predicted class label to its corresponding class name\n",
    "predicted_class_name = iris.target_names[predicted_class[0]]\n",
    "\n",
    "# Print the prediction\n",
    "print(f\"The predicted class for the new data point is: {predicted_class_name}\")"
   ]
  },
  {
   "cell_type": "markdown",
   "id": "b91500e1",
   "metadata": {},
   "source": [
    "### In summary:\n",
    "\n",
    "For this section of the tutorial, we have used scikit-learns random forest classifier to classify flowers based on different sizes of its sepal length/width and petal length/width.  We started by loading the dataset, analysing it and then splitting it into testing and training sets. We then built our model, trained it and then evaluated its performance on the test set. Finally, we made our own data and tested it on the model so that it could classify it."
   ]
  },
  {
   "cell_type": "markdown",
   "id": "6bc4cf86",
   "metadata": {},
   "source": [
    "## Classification using neural networks\n",
    "\n",
    "Neural networks are a type of architecture for performing machine learning tasks that are inspired from the human brain. They consist of layers of artificial neurons, starting with the input layer and ending with the output layer. Between the input and output layers, there may be one or more 'hidden layers.' When a neural network has multiple hidden layers, it is referred to as a 'deep learning' model. The term 'deep' indicates that the network has a greater number of layers, allowing it to capture and learn more complex features from the input data, which helps in making better predictions"
   ]
  },
  {
   "cell_type": "markdown",
   "id": "9cf60c0d",
   "metadata": {},
   "source": [
    "For this example, we are going to use a type of neural network called a deep convolution neural network to classify different hand drawn numbers ranging from 0 - 9 We will use a popular dataset called the MNIST dataset. \n",
    "\n",
    "Source [4] is the source for this dataset."
   ]
  },
  {
   "cell_type": "markdown",
   "id": "a176a95f",
   "metadata": {},
   "source": [
    "Step 1 - Import the necessary libraries\n",
    "\n",
    "Step 2 - Load dataset\n",
    "\n",
    "Step 3 - Analyse our data\n",
    "\n",
    "Step 4 - Build model structure\n",
    "\n",
    "Step 5 - Compilation \n",
    "\n",
    "Step 6 - Pre-process data\n",
    "\n",
    "Step 7 - Train model\n",
    "\n",
    "Step 8 - Evaluate \n",
    "\n",
    "Step 9 - Save model\n",
    "\n",
    "Step 10 - Visualise performace"
   ]
  },
  {
   "cell_type": "markdown",
   "id": "4c61bd99",
   "metadata": {},
   "source": [
    "A lot of the following code in this section was taken from source [5]. However, there is additional explanations and visualisations to help you with this concept"
   ]
  },
  {
   "cell_type": "markdown",
   "id": "8972e338",
   "metadata": {},
   "source": [
    "### Step 1\n",
    "\n",
    "Import libraries for the model. \n",
    "\n",
    "For this example, we will use a library called Keras. Keras is a very popular deep learning library which is build upon another library called TensorFlow"
   ]
  },
  {
   "cell_type": "code",
   "execution_count": 2,
   "id": "76882235",
   "metadata": {},
   "outputs": [
    {
     "name": "stderr",
     "output_type": "stream",
     "text": [
      "2023-11-07 10:23:50.681437: I tensorflow/core/platform/cpu_feature_guard.cc:193] This TensorFlow binary is optimized with oneAPI Deep Neural Network Library (oneDNN) to use the following CPU instructions in performance-critical operations:  AVX2 FMA\n",
      "To enable them in other operations, rebuild TensorFlow with the appropriate compiler flags.\n"
     ]
    }
   ],
   "source": [
    "from keras.datasets import mnist\n",
    "from keras import models\n",
    "from keras import layers\n",
    "from keras.utils import to_categorical\n",
    "import matplotlib.pyplot as plt"
   ]
  },
  {
   "cell_type": "markdown",
   "id": "130a8ea6",
   "metadata": {},
   "source": [
    "### Step 2\n",
    "\n",
    "Below, we load our dataset. "
   ]
  },
  {
   "cell_type": "code",
   "execution_count": 3,
   "id": "ad0bbc80",
   "metadata": {},
   "outputs": [],
   "source": [
    "(train_images, train_labels), (test_images, test_labels) = mnist.load_data()"
   ]
  },
  {
   "cell_type": "code",
   "execution_count": 4,
   "id": "a3634db2",
   "metadata": {},
   "outputs": [
    {
     "data": {
      "text/plain": [
       "(60000, 28, 28)"
      ]
     },
     "execution_count": 4,
     "metadata": {},
     "output_type": "execute_result"
    }
   ],
   "source": [
    "train_images.shape # we use .shape to check the dimensions of the array"
   ]
  },
  {
   "cell_type": "markdown",
   "id": "aea135ff",
   "metadata": {},
   "source": [
    "As you can see, there are 60,000 examples for our training data. The 28 represents that the image has 28 by 28 pixels."
   ]
  },
  {
   "cell_type": "code",
   "execution_count": 16,
   "id": "1a0682c0",
   "metadata": {},
   "outputs": [
    {
     "data": {
      "text/plain": [
       "(10000, 28, 28)"
      ]
     },
     "execution_count": 16,
     "metadata": {},
     "output_type": "execute_result"
    }
   ],
   "source": [
    "test_images.shape"
   ]
  },
  {
   "cell_type": "markdown",
   "id": "9ceaf92f",
   "metadata": {},
   "source": [
    "For the test set, there are 10,000 examples and the image pixels is the same as the training (28 X 28)"
   ]
  },
  {
   "cell_type": "markdown",
   "id": "ce2d578c",
   "metadata": {},
   "source": [
    "###  Step 3\n",
    "\n",
    "Lets have a look at an example of one of the images in the data. Below shows the 6th image in the dataset"
   ]
  },
  {
   "cell_type": "code",
   "execution_count": 17,
   "id": "d52c24be",
   "metadata": {},
   "outputs": [
    {
     "data": {
      "text/plain": [
       "<function matplotlib.pyplot.show(close=None, block=None)>"
      ]
     },
     "execution_count": 17,
     "metadata": {},
     "output_type": "execute_result"
    },
    {
     "data": {
      "image/png": "[encoded data removed]",
      "text/plain": [
       "<Figure size 640x480 with 1 Axes>"
      ]
     },
     "metadata": {},
     "output_type": "display_data"
    }
   ],
   "source": [
    "digit = train_images[5]\n",
    "\n",
    "plt.imshow(digit, cmap=plt.cm.binary)\n",
    "plt.show"
   ]
  },
  {
   "cell_type": "markdown",
   "id": "3ff0e107",
   "metadata": {},
   "source": [
    "### Step 4\n",
    "\n",
    "We can now build our model by stacking our layers"
   ]
  },
  {
   "cell_type": "code",
   "execution_count": 18,
   "id": "bb82019b",
   "metadata": {},
   "outputs": [
    {
     "name": "stderr",
     "output_type": "stream",
     "text": [
      "2023-11-06 12:46:58.681322: I tensorflow/core/platform/cpu_feature_guard.cc:193] This TensorFlow binary is optimized with oneAPI Deep Neural Network Library (oneDNN) to use the following CPU instructions in performance-critical operations:  AVX2 AVX512F AVX512_VNNI FMA\n",
      "To enable them in other operations, rebuild TensorFlow with the appropriate compiler flags.\n"
     ]
    }
   ],
   "source": [
    "# Create a Sequential model, which represents a linear stack of layers.\n",
    "model = models.Sequential()\n",
    "\n",
    "# Add a convolutional layer with 32 filters, each of size (3,3), and ReLU activation function.\n",
    "# The input shape is (28, 28, 1), indicating 28x28-pixel grayscale images.\n",
    "model.add(layers.Conv2D(32, (3,3), activation = 'relu', input_shape =(28, 28, 1)))\n",
    "\n",
    "# Add a max-pooling layer with a pool size of (2, 2) to reduce spatial dimensions.\n",
    "model.add(layers.MaxPooling2D((2, 2)))\n",
    "\n",
    "# Add another convolutional layer with 64 filters and ReLU activation.\n",
    "model.add(layers.Conv2D(64, (3,3), activation = 'relu'))\n",
    "\n",
    "# Add another max-pooling layer.\n",
    "model.add(layers.MaxPooling2D((2, 2)))\n",
    "\n",
    "# Add a third convolutional layer with 64 filters and ReLU activation.\n",
    "model.add(layers.Conv2D(64, (3,3), activation = 'relu'))\n",
    "\n",
    "# Flatten the output of the convolutional layers into a 1D vector.\n",
    "model.add(layers.Flatten())\n",
    "\n",
    "# Add a fully connected dense layer with 64 units and ReLU activation.\n",
    "model.add(layers.Dense(64, activation= 'relu'))\n",
    "\n",
    "# Add the output layer with 10 units (10 different classes) and a softmax activation for classification.\n",
    "model.add(layers.Dense(10, activation= 'softmax'))\n"
   ]
  },
  {
   "cell_type": "markdown",
   "id": "1efdbd2a",
   "metadata": {},
   "source": [
    "Below shows a summary of the model architecture"
   ]
  },
  {
   "cell_type": "code",
   "execution_count": 19,
   "id": "a6ba6562",
   "metadata": {},
   "outputs": [
    {
     "name": "stdout",
     "output_type": "stream",
     "text": [
      "Model: \"sequential\"\n",
      "_________________________________________________________________\n",
      " Layer (type)                Output Shape              Param #   \n",
      "=================================================================\n",
      " conv2d (Conv2D)             (None, 26, 26, 32)        320       \n",
      "                                                                 \n",
      " max_pooling2d (MaxPooling2D  (None, 13, 13, 32)       0         \n",
      " )                                                               \n",
      "                                                                 \n",
      " conv2d_1 (Conv2D)           (None, 11, 11, 64)        18496     \n",
      "                                                                 \n",
      " max_pooling2d_1 (MaxPooling  (None, 5, 5, 64)         0         \n",
      " 2D)                                                             \n",
      "                                                                 \n",
      " conv2d_2 (Conv2D)           (None, 3, 3, 64)          36928     \n",
      "                                                                 \n",
      " flatten (Flatten)           (None, 576)               0         \n",
      "                                                                 \n",
      " dense (Dense)               (None, 64)                36928     \n",
      "                                                                 \n",
      " dense_1 (Dense)             (None, 10)                650       \n",
      "                                                                 \n",
      "=================================================================\n",
      "Total params: 93,322\n",
      "Trainable params: 93,322\n",
      "Non-trainable params: 0\n",
      "_________________________________________________________________\n"
     ]
    }
   ],
   "source": [
    "model.summary()"
   ]
  },
  {
   "cell_type": "markdown",
   "id": "6023a643",
   "metadata": {},
   "source": [
    "### Step 5\n",
    "\n",
    "Before we can train our model, we also need to specify a few more things:\n",
    "\n",
    "Optimizer - The goal of an optimizer is to find the set of model parameters that results in the best possible performance on a given task. In this case, we are using  an RMSprop (Root Mean Square Propagation). This is an optimizer that adjusts the learning rates for each parameter based on the magnitudes of past gradients. It helps to normalize the update step for each parameter.\n",
    "\n",
    "Loss function - The purpose of a loss function is to measure the error between the predicted values and the true values. In this case, we are using: Categorical Cross-Entropy Loss which is used in multi-class classification problems, it measures the difference between predicted class probabilities and the class labels.\n",
    "\n",
    "Metrics - This is the metrics we are going to use to monitor during the training and testing. For this we are going to use accuracy which is the fraction of correctly classified images"
   ]
  },
  {
   "cell_type": "code",
   "execution_count": 20,
   "id": "657ab23a",
   "metadata": {},
   "outputs": [],
   "source": [
    "model.compile(optimizer = 'rmsprop',\n",
    "               loss = 'categorical_crossentropy',\n",
    "               metrics=['accuracy'])"
   ]
  },
  {
   "cell_type": "markdown",
   "id": "20336f33",
   "metadata": {},
   "source": [
    "### Step 6\n",
    "\n",
    "We also need to pre-process our data by re-shaping it so that the network can use it. We also want to scale it down so the values are between 0 - 1. This is a form of normalization. We do this to ensure that the neural network doesn't favor one feature or input over others due to differences in scale."
   ]
  },
  {
   "cell_type": "code",
   "execution_count": 187,
   "id": "33a02cc1",
   "metadata": {},
   "outputs": [],
   "source": [
    "train_images = train_images.reshape((60000, 28, 28, 1))\n",
    "train_images = train_images.astype('float32') / 255\n",
    "\n",
    "test_images = test_images.reshape((10000, 28, 28, 1))\n",
    "test_images = test_images.astype('float32') / 255"
   ]
  },
  {
   "cell_type": "markdown",
   "id": "64c04bfe",
   "metadata": {},
   "source": [
    "We also need to categorically encode our labels. As neural networks work with numbers we need to convert our labels into a numerical format in order for the model to understand it."
   ]
  },
  {
   "cell_type": "code",
   "execution_count": 236,
   "id": "6a49bfbb",
   "metadata": {},
   "outputs": [],
   "source": [
    "# Here we categorically encode the lables\n",
    "train_labels = to_categorical(train_labels)\n",
    "test_labels = to_categorical(test_labels)"
   ]
  },
  {
   "cell_type": "markdown",
   "id": "fc03b0ce",
   "metadata": {},
   "source": [
    "### Step 7\n",
    "\n",
    "Finally, we can train our model.\n",
    "\n",
    "Epochs - We need to specify the number of epochs. This is the number of times the entire training dataset is passed forward and backward through the neural network. In this case, we will start with 5 epochs. Too little, we risk of underfitting which is when the model isnt as accurate as we would like. Too many and we risk overfitting which means the model generalises too well with the training data but when tested on new data, it performs badly.\n",
    "\n",
    "Batch size - This is the number of training examples processed in each iteration (mini-batch) during an epoch. A batch size of 128 means that the training data is divided into smaller groups of 128 samples each for faster and more efficient training."
   ]
  },
  {
   "cell_type": "code",
   "execution_count": 238,
   "id": "6a63bc8f",
   "metadata": {},
   "outputs": [
    {
     "name": "stdout",
     "output_type": "stream",
     "text": [
      "Epoch 1/5\n",
      "469/469 [==============================] - 26s 54ms/step - loss: 0.3971 - accuracy: 0.9238 - val_loss: 0.0710 - val_accuracy: 0.9782\n",
      "Epoch 2/5\n",
      "469/469 [==============================] - 21s 46ms/step - loss: 0.0592 - accuracy: 0.9828 - val_loss: 0.0538 - val_accuracy: 0.9856\n",
      "Epoch 3/5\n",
      "469/469 [==============================] - 24s 51ms/step - loss: 0.0394 - accuracy: 0.9880 - val_loss: 0.0454 - val_accuracy: 0.9875\n",
      "Epoch 4/5\n",
      "469/469 [==============================] - 23s 49ms/step - loss: 0.0299 - accuracy: 0.9915 - val_loss: 0.0430 - val_accuracy: 0.9900\n",
      "Epoch 5/5\n",
      "469/469 [==============================] - 24s 51ms/step - loss: 0.0243 - accuracy: 0.9926 - val_loss: 0.0428 - val_accuracy: 0.9896\n"
     ]
    }
   ],
   "source": [
    "history = model.fit(train_images, # our training data\n",
    "                    train_labels, # training labels used for comparing predicted vs actual\n",
    "                    epochs = 5, # epochs (explained above)\n",
    "                    batch_size = 128, # batch size (explained above)\n",
    "                    validation_data=(test_images, test_labels)) # testing data used for validation in this case"
   ]
  },
  {
   "cell_type": "markdown",
   "id": "f4e75c29",
   "metadata": {},
   "source": [
    "### Step 8\n",
    "\n",
    "Evaluate the overall accuracy using our test data"
   ]
  },
  {
   "cell_type": "code",
   "execution_count": 240,
   "id": "ba47cff2",
   "metadata": {},
   "outputs": [
    {
     "name": "stdout",
     "output_type": "stream",
     "text": [
      "313/313 [==============================] - 3s 11ms/step - loss: 0.0428 - accuracy: 0.9896\n"
     ]
    },
    {
     "data": {
      "text/plain": [
       "0.9896000027656555"
      ]
     },
     "execution_count": 240,
     "metadata": {},
     "output_type": "execute_result"
    }
   ],
   "source": [
    "test_loss, test_acc = model.evaluate(test_images, test_labels)\n",
    "test_acc"
   ]
  },
  {
   "cell_type": "markdown",
   "id": "fd5bbc56",
   "metadata": {},
   "source": [
    "### Step 9\n",
    "\n",
    "we can save our model using the code below"
   ]
  },
  {
   "cell_type": "code",
   "execution_count": 241,
   "id": "df0188de",
   "metadata": {},
   "outputs": [],
   "source": [
    "model.save('mnist_classification.h5')"
   ]
  },
  {
   "cell_type": "markdown",
   "id": "e4ba2611",
   "metadata": {},
   "source": [
    "### Step 10\n",
    "\n",
    "Now lets plot a graph showing the accuracy during training compared with the accuracy of the test set during training"
   ]
  },
  {
   "cell_type": "code",
   "execution_count": 242,
   "id": "d17d6058",
   "metadata": {},
   "outputs": [
    {
     "data": {
      "image/png": "[encoded data removed]",
      "text/plain": [
       "<Figure size 1200x600 with 1 Axes>"
      ]
     },
     "metadata": {},
     "output_type": "display_data"
    }
   ],
   "source": [
    "# Plot training accuracy and test accuracy\n",
    "training_accuracy = history.history['accuracy']\n",
    "test_accuracy = history.history['val_accuracy']\n",
    "\n",
    "epochs = range(1, len(training_accuracy) + 1)\n",
    "\n",
    "plt.figure(figsize=(12, 6))\n",
    "\n",
    "# Accuracy plot\n",
    "plt.subplot(1, 2, 1)\n",
    "plt.plot(epochs, training_accuracy, 'bo', label='Training accuracy')\n",
    "plt.plot(epochs, test_accuracy, 'r', label='Test accuracy')\n",
    "plt.title('Training and Test Accuracy')\n",
    "plt.xlabel('Epochs')\n",
    "plt.ylabel('Accuracy')\n",
    "plt.legend()\n",
    "\n",
    "\n",
    "plt.show()\n",
    "\n",
    "\n",
    "\n",
    "\n"
   ]
  },
  {
   "cell_type": "markdown",
   "id": "91083038",
   "metadata": {},
   "source": [
    "As you can see, the accuracy is high for both the training and testing which is what we want. This shows that the model was effective in making new predictions. In this case, this plot isnt particulary useful as we only ran 5 epochs however, with more epochs, plotting the training and testing accracy over time becomes far more useful to understand if the model has underfit or overfit. Below shows examples of plots that have underfitted and overfitted"
   ]
  },
  {
   "attachments": {
    "ai%20image.webp": {
     "image/webp": "[encoded data removed]"
    }
   },
   "cell_type": "markdown",
   "id": "2b015b1f",
   "metadata": {},
   "source": [
    "Source [6]:\n",
    "\n",
    "\n",
    "![ai%20image.webp](attachment:ai%20image.webp)\n",
    "\n"
   ]
  },
  {
   "cell_type": "markdown",
   "id": "ca456b7f",
   "metadata": {},
   "source": [
    "### Summary:\n",
    "\n",
    "In summary, this part of the tutorial shows you how you can train a convolution neural network to classify images. Firstly, we loaded our dataset. Next we created our model architecture and transformed our data so it was compatible for the input of the model. We then trained the model and then evuated its performance with metrics and visualization."
   ]
  },
  {
   "cell_type": "markdown",
   "id": "375463e3",
   "metadata": {},
   "source": [
    "## References: \n",
    "\n",
    "Source [1] https://scikit-learn.org/stable/auto_examples/linear_model/plot_ols.html\n",
    "\n",
    "Source [2] https://scikit-learn.org/stable/modules/generated/sklearn.ensemble.RandomForestClassifier.html\n",
    "\n",
    "Source [3] https://scikit-learn.org/stable/auto_examples/datasets/plot_iris_dataset.html\n",
    "\n",
    "Source [4] https://github.com/keras-team/keras/blob/v2.14.0/keras/datasets/mnist.py#L25\n",
    "\n",
    "Source [5] Chollet, F. (2018). Deep Learning with Python. Manning Publications.\n",
    "\n",
    "Source [6] https://www.baeldung.com/cs/ml-underfitting-overfitting"
   ]
  },
  {
   "cell_type": "code",
   "execution_count": null,
   "id": "00f33f74",
   "metadata": {},
   "outputs": [],
   "source": []
  }
 ],
 "metadata": {
  "kernelspec": {
   "display_name": "Python 3 (ipykernel)",
   "language": "python",
   "name": "python3"
  },
  "language_info": {
   "codemirror_mode": {
    "name": "ipython",
    "version": 3
   },
   "file_extension": ".py",
   "mimetype": "text/x-python",
   "name": "python",
   "nbconvert_exporter": "python",
   "pygments_lexer": "ipython3",
   "version": "3.10.11"
  }
 },
 "nbformat": 4,
 "nbformat_minor": 5
}
